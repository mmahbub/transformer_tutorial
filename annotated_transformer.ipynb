{
 "cells": [
  {
   "cell_type": "markdown",
   "metadata": {},
   "source": [
    "# The Annotated Transformer Tutorial\n",
    "This is a reimplementation of the famous [Annotated Transformer](http://nlp.seas.harvard.edu/2018/04/03/attention.html) that I did to better understand the transformer."
   ]
  },
  {
   "cell_type": "markdown",
   "metadata": {},
   "source": [
    "## Imports & Inits"
   ]
  },
  {
   "cell_type": "code",
   "execution_count": null,
   "metadata": {
    "ExecuteTime": {
     "end_time": "2020-09-01T16:09:24.906999Z",
     "start_time": "2020-09-01T16:09:24.779451Z"
    }
   },
   "outputs": [],
   "source": [
    "%load_ext autoreload\n",
    "%autoreload 2"
   ]
  },
  {
   "cell_type": "code",
   "execution_count": null,
   "metadata": {
    "ExecuteTime": {
     "end_time": "2020-09-01T16:09:27.091905Z",
     "start_time": "2020-09-01T16:09:24.910063Z"
    }
   },
   "outputs": [],
   "source": [
    "import math, time, pdb\n",
    "import numpy as np\n",
    "np.set_printoptions(precision=4)\n",
    "\n",
    "from copy import deepcopy\n",
    "import matplotlib.pyplot as plt\n",
    "import seaborn as sns\n",
    "sns.set_style(\"darkgrid\")\n",
    "sns.set_context(context=\"talk\")\n",
    "%matplotlib inline\n",
    "\n",
    "import torch\n",
    "from torch import nn\n",
    "from torch.nn import functional as F\n",
    "\n",
    "import pytorch_lightning as pl"
   ]
  },
  {
   "cell_type": "markdown",
   "metadata": {},
   "source": [
    "## Functions"
   ]
  },
  {
   "cell_type": "code",
   "execution_count": null,
   "metadata": {},
   "outputs": [],
   "source": [
    "clones = lambda module, n: nn.ModuleList([deepcopy(module) for _ in range(n)])\n",
    "\n",
    "def subsequent_mask(size):\n",
    "  \"\"\"\n",
    "  Function to mask subsequent positions in the output.\n",
    "  This is done to prevent the decoder stack from attending to\n",
    "  subsequent positions and ensures that the predictions for any\n",
    "  position can depend only on the known outputs at the positions before.\n",
    "  \"\"\"\n",
    "  attn_shape = (1, size, size)\n",
    "  subsq_mask = np.triu(np.ones(attn_shape), k=1).astype('uint8')\n",
    "  return torch.from_numpy(subsq_mask) == 0"
   ]
  },
  {
   "cell_type": "markdown",
   "metadata": {},
   "source": [
    "## Moder Architecture"
   ]
  },
  {
   "cell_type": "code",
   "execution_count": null,
   "metadata": {
    "ExecuteTime": {
     "end_time": "2020-09-01T16:15:51.003636Z",
     "start_time": "2020-09-01T16:15:50.737024Z"
    }
   },
   "outputs": [],
   "source": [
    "class Transformer(nn.Module):\n",
    "  \"\"\"\n",
    "  The main Transformer architecture made up of an encoder\n",
    "  stack and a decoder stack. Base for this and many other models. \n",
    "  \"\"\"\n",
    "  def __ini__(self, encoder_stack, decoder_stack, src_emb, target_emb, generator):\n",
    "    super(Transformer, self).__ini__()\n",
    "    self.enc_stack = encoder_stack\n",
    "    self.dec_stack = decoder_stack\n",
    "    self.src_emb = src_emb \n",
    "    self.target_emb = target_emb\n",
    "    self.gen = generator\n",
    "    \n",
    "  def forward(self, src, tgt, src_mask, tgt_mask):\n",
    "    \"\"\"\n",
    "    Take in and process masked source and target sequences. \n",
    "    \"\"\"\n",
    "    encoder_output = self.enc_stack(self.src_emb(src), src_mask)\n",
    "    decoder_output = self.dec_stack(self.target_emb(target), encoder_output, src_mask, target_mask)\n",
    "    return decoder_output\n",
    "\n",
    "class Generator(nn.Module):\n",
    "  \"\"\"\n",
    "  The final layer which contains a linear + softmax layer\n",
    "  for generation of output sequence\n",
    "  \"\"\"\n",
    "  def __init__(self, d_model, vocab):\n",
    "    super(Generator, self).__init__()\n",
    "    self.proj = nn.Linear(d_model, vocab)\n",
    "    \n",
    "  def forward(self, x):\n",
    "    return F.log_softmax(self.proj(x), dim=-1)"
   ]
  },
  {
   "cell_type": "code",
   "execution_count": null,
   "metadata": {},
   "outputs": [],
   "source": [
    "class LayerNorm(nn.Module):\n",
    "  \"\"\"\n",
    "  Construct a layernorm module.\n",
    "  TODO: Replace this with Pytorch's inbuilt LayerNorm class\n",
    "  \"\"\"\n",
    "  def __init__(self, features, eps=1e-6):\n",
    "    super(LayerNorm, self).__init__()\n",
    "    self.a_2 = nn.Parameter(torch.ones(features))\n",
    "    self.b_2 = nn.Parameter(torch.zeros(features))\n",
    "    self.eps = eps\n",
    "    \n",
    "  def forward(self, x):\n",
    "    mean = x.mean(-1, keepdim=True)\n",
    "    std = x.std(-1, keepdim=True)\n",
    "    return self.a_2 * (x - mean) / (std + self.eps) + self.b_2\n",
    "\n",
    "class ResidualConnection(nn.Module):\n",
    "  \"\"\"\n",
    "  A residual connection followed by a layer norm.\n",
    "  Note for code simplicity the norm is first as opposed to last.\n",
    "  \"\"\"\n",
    "  def __init__(self, size, dropout):\n",
    "    super(ResidualConnection, self).__init__()\n",
    "    self.norm = LayerNorm(size)\n",
    "    self.dropout = nn.Dropout(dropout)\n",
    "    \n",
    "  def forward(self, x, sublayer):\n",
    "    \"\"\"\n",
    "    Apply residual connection to any subplayer with the same size.\n",
    "    \"\"\"\n",
    "    return x + self.dropout(subplayer(self.norm(x)))  "
   ]
  },
  {
   "cell_type": "markdown",
   "metadata": {},
   "source": [
    "## Encoder"
   ]
  },
  {
   "cell_type": "code",
   "execution_count": null,
   "metadata": {
    "ExecuteTime": {
     "end_time": "2020-09-01T16:16:46.929075Z",
     "start_time": "2020-09-01T16:16:46.870253Z"
    }
   },
   "outputs": [],
   "source": [
    "class EncoderStack(nn.Module):\n",
    "  \"\"\"\n",
    "  Encoder stack is a stack of 'n' encoder layers.\n",
    "  \"\"\"\n",
    "  def __init__(self, encoder, n_layers):\n",
    "    super(EncoderStack, self).__init__()\n",
    "    self.encoders = clones(encoder, n_layers)\n",
    "    self.norm = LayerNorm(layer.size) # change this to pytorch's LayerNorm\n",
    "    \n",
    "  def forward(self, x, mask):\n",
    "    \"\"\"\n",
    "    Pass the input (and mask) through each encoder in turn.\n",
    "    \"\"\"\n",
    "    for encoder in self.encoders:\n",
    "      x = encoder(x, mask)\n",
    "      \n",
    "    return self.norm(x)\n",
    "\n",
    "class Encoder(nn.Module):\n",
    "  \"\"\"\n",
    "  The encoder is made up of a self attention layer and a feed forward layer.\n",
    "  \"\"\"\n",
    "  def __init__(self, size, self_attn, feed_forward, dropout):\n",
    "    super(Encoder, self).__init__()\n",
    "    self.self_attn = self_attn\n",
    "    self.feed_forward = feed_forward\n",
    "    self.subplayer = clones(ResidualConnection(size, dropout), 2)\n",
    "    self.size = size\n",
    "    \n",
    "  def forward(self, x, mask):\n",
    "    \"\"\"\n",
    "    This function does the following:\n",
    "    1. Three copies corresponding of the input to the query, key, and value along\n",
    "       with the mask is fed into the self attention layer\n",
    "    2. Output from 1 is sent to residual connection layer which also applies\n",
    "       layer normalization\n",
    "    3. Output from 2 is fed into the feed forward layer\n",
    "    4. Output from 3 is sent to residual connection layer which also applies\n",
    "       layer normalization\n",
    "    \"\"\"\n",
    "    x = self.sublayer[0](x, lambda x: self.self_attn(x, x, x, mask))\n",
    "    return self.sublayer[1](x, self.feed_forward)"
   ]
  },
  {
   "cell_type": "markdown",
   "metadata": {},
   "source": [
    "## Decoder"
   ]
  },
  {
   "cell_type": "code",
   "execution_count": null,
   "metadata": {},
   "outputs": [],
   "source": [
    "class DecoderStack(nn.Module):\n",
    "  \"\"\"\n",
    "  Generic 'n' layer decoder stack with masking.\n",
    "  \"\"\"\n",
    "  def __init__(self, decoder, n_layers):\n",
    "    super(DecoderStack, self).__init__()\n",
    "    self.decoders = clones(decoder, n_layers)\n",
    "    self.norm = LayerNorm(layer.size) # change this to pytorch's LayerNorm\n",
    "    \n",
    "  def forward(self, x, encoder_output, src_mask, target_mask):\n",
    "    for decoder in self.decoders:\n",
    "      x = decoder(x, encoder_output, src_mask, target_mask)\n",
    "      \n",
    "    return self.norm(x) "
   ]
  },
  {
   "cell_type": "code",
   "execution_count": null,
   "metadata": {},
   "outputs": [],
   "source": [
    "class Decoder(nn.Module):\n",
    "  \"\"\"\n",
    "  The decoder is made up of self attention, source attention\n",
    "  providing the keys and values from the encoder output, and feed forward.\n",
    "  \"\"\"\n",
    "  def __init__(self, size, self_attn, src_attn, feed_forward, dropout):\n",
    "    super(Decoder, self).__init__()\n",
    "    self.self_attn = self_attn\n",
    "    self.src_attn = src_attn\n",
    "    self.feed_forward = feed_forward\n",
    "    self.subplayer = clones(ResidualConnection(size, dropout), 3)\n",
    "    self.size = size\n",
    "    \n",
    "  def forward(self, x, encoder_output, src_mask, target_mask):\n",
    "    \"\"\"\n",
    "    This function does the following:\n",
    "    1. Three copies corresponding of the generated output to the query, key, and value along\n",
    "       with the mask is fed into the self attention layer\n",
    "    2. Output from 1 is sent to residual connection layer which also applies\n",
    "       layer normalization\n",
    "    3. Output from 2 is fed into the source attention layer, with the keys and values\n",
    "       coming from the encoder and query coming from step 2\n",
    "    4. Output from 3 is sent to residual connection layer which also applies\n",
    "       layer normalization\n",
    "    5. Output from 4 is fed into a feed forward layer which is then sent to the\n",
    "       residual connection layer\n",
    "    \"\"\"\n",
    "    x = self.sublayer[0](x, lambda x: self.self_attn(x, x, x, target_mask))\n",
    "    x = self.sublayer[1](x, lambda x: self.src_attn(x, encoder_output, encoder_output, src_mask))\n",
    "    return self.sublayer[2](x, self.feed_forward)"
   ]
  },
  {
   "cell_type": "markdown",
   "metadata": {},
   "source": [
    "## Attention"
   ]
  },
  {
   "cell_type": "code",
   "execution_count": null,
   "metadata": {},
   "outputs": [],
   "source": [
    "def attention(query, key, value, mask=None, dropout=None):\n",
    "  \"\"\"\n",
    "  Compute 'Scaled Dot Product Attention'\n",
    "  \"\"\"\n",
    "  d_k = query.size(-1)\n",
    "  scores = torch.matmul(query, key.transpose(-2, -1)) / math.sqrt(d_k)\n",
    "  if mask is not None:\n",
    "    scores = scores.maksed_fill(mask == 0, -1e9)\n",
    "  p_attn = F.softmax(scores, dim=-1)\n",
    "  if dropout is not None:\n",
    "    p_attn = dropout(p_attn)\n",
    "    \n",
    "  return torch.matmul(p_attn, value), p_attn"
   ]
  },
  {
   "cell_type": "code",
   "execution_count": 16,
   "metadata": {
    "ExecuteTime": {
     "end_time": "2020-09-01T21:53:24.763106Z",
     "start_time": "2020-09-01T21:53:24.605893Z"
    }
   },
   "outputs": [],
   "source": [
    "x = torch.rand(2,4)\n",
    "wq,wk,wv = torch.rand(4,3), torch.rand(4,3),torch.rand(4,3)"
   ]
  },
  {
   "cell_type": "code",
   "execution_count": 27,
   "metadata": {
    "ExecuteTime": {
     "end_time": "2020-09-01T21:57:20.190087Z",
     "start_time": "2020-09-01T21:57:20.135997Z"
    }
   },
   "outputs": [],
   "source": [
    "q,k,v = torch.matmul(x,wq),torch.matmul(x,wk),torch.matmul(x,wv)\n",
    "scores = torch.matmul(q,k.transpose(-2,-1))"
   ]
  },
  {
   "cell_type": "code",
   "execution_count": 34,
   "metadata": {
    "ExecuteTime": {
     "end_time": "2020-09-01T21:58:41.523378Z",
     "start_time": "2020-09-01T21:58:41.468197Z"
    }
   },
   "outputs": [
    {
     "data": {
      "text/plain": [
       "tensor([[0.6760, 1.3563],\n",
       "        [1.9249, 4.0511]])"
      ]
     },
     "execution_count": 34,
     "metadata": {},
     "output_type": "execute_result"
    }
   ],
   "source": [
    "scores"
   ]
  },
  {
   "cell_type": "code",
   "execution_count": 35,
   "metadata": {
    "ExecuteTime": {
     "end_time": "2020-09-01T21:58:57.203435Z",
     "start_time": "2020-09-01T21:58:56.977845Z"
    }
   },
   "outputs": [],
   "source": [
    "p_attn = F.softmax(scores, dim=-1)"
   ]
  },
  {
   "cell_type": "code",
   "execution_count": 36,
   "metadata": {
    "ExecuteTime": {
     "end_time": "2020-09-01T21:59:07.485716Z",
     "start_time": "2020-09-01T21:59:07.431506Z"
    }
   },
   "outputs": [
    {
     "data": {
      "text/plain": [
       "tensor([[0.6591, 1.5278, 1.2356],\n",
       "        [0.7922, 1.8134, 1.5021]])"
      ]
     },
     "execution_count": 36,
     "metadata": {},
     "output_type": "execute_result"
    }
   ],
   "source": [
    "torch.matmul(p_attn, v)"
   ]
  }
 ],
 "metadata": {
  "kernelspec": {
   "display_name": "Python 3",
   "language": "python",
   "name": "python3"
  },
  "language_info": {
   "codemirror_mode": {
    "name": "ipython",
    "version": 3
   },
   "file_extension": ".py",
   "mimetype": "text/x-python",
   "name": "python",
   "nbconvert_exporter": "python",
   "pygments_lexer": "ipython3",
   "version": "3.7.7"
  },
  "toc": {
   "base_numbering": 1,
   "nav_menu": {},
   "number_sections": true,
   "sideBar": true,
   "skip_h1_title": true,
   "title_cell": "Table of Contents",
   "title_sidebar": "Contents",
   "toc_cell": false,
   "toc_position": {},
   "toc_section_display": true,
   "toc_window_display": false
  }
 },
 "nbformat": 4,
 "nbformat_minor": 4
}
