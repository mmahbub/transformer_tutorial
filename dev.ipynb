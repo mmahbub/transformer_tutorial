{
 "cells": [
  {
   "cell_type": "markdown",
   "metadata": {},
   "source": [
    "# Transformer From Scratch"
   ]
  },
  {
   "cell_type": "markdown",
   "metadata": {},
   "source": [
    "## Imports & Inits"
   ]
  },
  {
   "cell_type": "code",
   "execution_count": 1,
   "metadata": {
    "ExecuteTime": {
     "end_time": "2020-09-29T19:54:01.066136Z",
     "start_time": "2020-09-29T19:54:01.032251Z"
    }
   },
   "outputs": [],
   "source": [
    "%load_ext autoreload\n",
    "%autoreload 2"
   ]
  },
  {
   "cell_type": "code",
   "execution_count": 2,
   "metadata": {
    "ExecuteTime": {
     "end_time": "2020-09-29T19:54:05.785739Z",
     "start_time": "2020-09-29T19:54:01.068864Z"
    }
   },
   "outputs": [],
   "source": [
    "import pdb, math\n",
    "\n",
    "import numpy as np\n",
    "np.set_printoptions(precision=4)\n",
    "\n",
    "import matplotlib.pyplot as plt\n",
    "import seaborn as sns\n",
    "sns.set_style(\"darkgrid\")\n",
    "sns.set_context(context=\"talk\")\n",
    "%matplotlib inline\n",
    "\n",
    "import torch;\n",
    "assert(torch.cuda.is_available())\n",
    "from torch import nn\n",
    "from torch.nn import functional as F"
   ]
  },
  {
   "cell_type": "code",
   "execution_count": 3,
   "metadata": {
    "ExecuteTime": {
     "end_time": "2020-09-29T19:54:05.812635Z",
     "start_time": "2020-09-29T19:54:05.788741Z"
    }
   },
   "outputs": [],
   "source": [
    "from transformer import *"
   ]
  },
  {
   "cell_type": "code",
   "execution_count": 5,
   "metadata": {
    "ExecuteTime": {
     "end_time": "2020-09-29T19:54:11.985852Z",
     "start_time": "2020-09-29T19:54:11.933691Z"
    }
   },
   "outputs": [],
   "source": [
    "emb_size = 6\n",
    "batch_size = 2\n",
    "seq_len = 3\n",
    "key_size,query_size,hidden_units,dropout = emb_size,emb_size,10,0.1\n",
    "attn = MLPAttention(key_size, query_size, hidden_units, dropout).eval()\n",
    "x = torch.rand(batch_size, seq_len, emb_size)\n",
    "\n",
    "queries,keys,values = x,x,x\n",
    "valid_len = torch.tensor([2, 6])"
   ]
  },
  {
   "cell_type": "code",
   "execution_count": 6,
   "metadata": {
    "ExecuteTime": {
     "end_time": "2020-09-29T19:54:12.963150Z",
     "start_time": "2020-09-29T19:54:12.893022Z"
    },
    "scrolled": false
   },
   "outputs": [
    {
     "data": {
      "text/plain": [
       "tensor([[[0.4910, 0.4504, 0.7237, 0.3687, 0.4688, 0.7265],\n",
       "         [0.4911, 0.4503, 0.7236, 0.3685, 0.4689, 0.7262],\n",
       "         [0.4909, 0.4504, 0.7237, 0.3688, 0.4688, 0.7266]],\n",
       "\n",
       "        [[0.3827, 0.3301, 0.4166, 0.7643, 0.2257, 0.6270],\n",
       "         [0.3817, 0.3319, 0.4159, 0.7642, 0.2255, 0.6274],\n",
       "         [0.3797, 0.3312, 0.4145, 0.7643, 0.2260, 0.6260]]],\n",
       "       grad_fn=<BmmBackward0>)"
      ]
     },
     "execution_count": 6,
     "metadata": {},
     "output_type": "execute_result"
    }
   ],
   "source": [
    "attn.forward(queries, keys, values, valid_len)"
   ]
  }
 ],
 "metadata": {
  "kernelspec": {
   "display_name": "Python 3",
   "language": "python",
   "name": "python3"
  },
  "language_info": {
   "codemirror_mode": {
    "name": "ipython",
    "version": 3
   },
   "file_extension": ".py",
   "mimetype": "text/x-python",
   "name": "python",
   "nbconvert_exporter": "python",
   "pygments_lexer": "ipython3",
   "version": "3.7.9"
  },
  "toc": {
   "base_numbering": 1,
   "nav_menu": {},
   "number_sections": true,
   "sideBar": true,
   "skip_h1_title": true,
   "title_cell": "Table of Contents",
   "title_sidebar": "Contents",
   "toc_cell": false,
   "toc_position": {},
   "toc_section_display": true,
   "toc_window_display": false
  }
 },
 "nbformat": 4,
 "nbformat_minor": 4
}
