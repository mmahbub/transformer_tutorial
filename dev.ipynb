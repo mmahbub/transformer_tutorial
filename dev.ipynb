{
 "cells": [
  {
   "cell_type": "markdown",
   "metadata": {},
   "source": [
    "# Transformer From Scratch"
   ]
  },
  {
   "cell_type": "markdown",
   "metadata": {},
   "source": [
    "## Imports & Inits"
   ]
  },
  {
   "cell_type": "code",
   "execution_count": 1,
   "metadata": {
    "ExecuteTime": {
     "end_time": "2020-09-25T21:29:09.904889Z",
     "start_time": "2020-09-25T21:29:09.871273Z"
    }
   },
   "outputs": [],
   "source": [
    "%load_ext autoreload\n",
    "%autoreload 2"
   ]
  },
  {
   "cell_type": "code",
   "execution_count": 2,
   "metadata": {
    "ExecuteTime": {
     "end_time": "2020-09-25T21:29:11.484429Z",
     "start_time": "2020-09-25T21:29:09.907958Z"
    }
   },
   "outputs": [],
   "source": [
    "import pdb, math\n",
    "\n",
    "import numpy as np\n",
    "np.set_printoptions(precision=4)\n",
    "\n",
    "import matplotlib.pyplot as plt\n",
    "import seaborn as sns\n",
    "sns.set_style(\"darkgrid\")\n",
    "sns.set_context(context=\"talk\")\n",
    "%matplotlib inline\n",
    "\n",
    "import torch;\n",
    "# assert(torch.cuda.is_available())\n",
    "from torch import nn\n",
    "from torch.nn import functional as F"
   ]
  },
  {
   "cell_type": "code",
   "execution_count": 3,
   "metadata": {
    "ExecuteTime": {
     "end_time": "2020-09-25T21:29:11.516126Z",
     "start_time": "2020-09-25T21:29:11.486681Z"
    }
   },
   "outputs": [],
   "source": [
    "def sequence_mask(x, valid_len, value=0):\n",
    "  maxlen = x.shape[1]\n",
    "  mask = torch.arange((maxlen), dtype=torch.float32)[None, :] >= valid_len[:, None]\n",
    "  x[mask] = value\n",
    "  return x\n",
    "\n",
    "def masked_softmax(x, valid_len):\n",
    "  if valid_len is None:\n",
    "    return F.softmax(x, dim=-1)\n",
    "  else:\n",
    "    shape = x.shape\n",
    "    if valid_len.dim() == 1:\n",
    "      valid_len = torch.repeat_interleave(valid_len, repeats=shape[1], dim=0)\n",
    "    else:\n",
    "      valid_len = valid_len.reshape(-1)\n",
    "  \n",
    "  x = sequence_mask(x.reshape(-1, shape[-1]), valid_len, value=-1e6)\n",
    "  return F.softmax(x.reshape(shape), dim=-1)      "
   ]
  },
  {
   "cell_type": "code",
   "execution_count": 11,
   "metadata": {
    "ExecuteTime": {
     "end_time": "2020-09-25T21:37:28.989201Z",
     "start_time": "2020-09-25T21:37:28.756404Z"
    }
   },
   "outputs": [],
   "source": [
    "class DotProductAttention(nn.Module):\n",
    "  def __init__(self, dropout, **kwargs):\n",
    "    super(DotProductAttention, self).__init__(**kwargs)\n",
    "    self.dropout = nn.Dropout(dropout)\n",
    "    \n",
    "  def forward(self, query, key, value, valid_len=None):\n",
    "#     pdb.set_trace()\n",
    "    d = query.shape[-1]\n",
    "    scores = torch.bmm(query, key.transpose(1, 2)) / math.sqrt(d)\n",
    "    attn_wts = self.dropout(masked_softmax(scores, valid_len))\n",
    "    return torch.bmm(attn_wts, value)"
   ]
  },
  {
   "cell_type": "code",
   "execution_count": 24,
   "metadata": {
    "ExecuteTime": {
     "end_time": "2020-09-25T21:41:12.469208Z",
     "start_time": "2020-09-25T21:41:12.419317Z"
    }
   },
   "outputs": [],
   "source": [
    "attn = DotProductAttention(dropout=0.5)\n",
    "attn.eval()\n",
    "keys = torch.ones(2,10,2)\n",
    "values = torch.arange(40, dtype=torch.float32).reshape(1,10,4).repeat(2,1,1)\n",
    "queries = torch.ones(2,1,2)\n",
    "value_len = torch.tensor([2, 6])"
   ]
  },
  {
   "cell_type": "code",
   "execution_count": 25,
   "metadata": {
    "ExecuteTime": {
     "end_time": "2020-09-25T21:41:12.509520Z",
     "start_time": "2020-09-25T21:41:12.471869Z"
    }
   },
   "outputs": [
    {
     "data": {
      "text/plain": [
       "torch.Size([2, 10, 2])"
      ]
     },
     "execution_count": 25,
     "metadata": {},
     "output_type": "execute_result"
    }
   ],
   "source": [
    "keys.shape"
   ]
  },
  {
   "cell_type": "code",
   "execution_count": 26,
   "metadata": {
    "ExecuteTime": {
     "end_time": "2020-09-25T21:41:12.544464Z",
     "start_time": "2020-09-25T21:41:12.511997Z"
    }
   },
   "outputs": [
    {
     "data": {
      "text/plain": [
       "torch.Size([2, 10, 4])"
      ]
     },
     "execution_count": 26,
     "metadata": {},
     "output_type": "execute_result"
    }
   ],
   "source": [
    "values.shape"
   ]
  },
  {
   "cell_type": "code",
   "execution_count": 17,
   "metadata": {
    "ExecuteTime": {
     "end_time": "2020-09-25T21:39:42.372862Z",
     "start_time": "2020-09-25T21:39:42.132832Z"
    }
   },
   "outputs": [
    {
     "data": {
      "text/plain": [
       "torch.Size([2, 1, 4])"
      ]
     },
     "execution_count": 17,
     "metadata": {},
     "output_type": "execute_result"
    }
   ],
   "source": [
    "at = attn(queries, keys, values, value_len)\n",
    "at.shape"
   ]
  },
  {
   "cell_type": "code",
   "execution_count": 18,
   "metadata": {
    "ExecuteTime": {
     "end_time": "2020-09-25T21:40:01.350296Z",
     "start_time": "2020-09-25T21:40:01.295984Z"
    }
   },
   "outputs": [],
   "source": [
    "attn = DotProductAttention(dropout=0.5)\n",
    "attn.eval()\n",
    "keys = torch.rand(2, 1, 4)\n",
    "values = torch.rand(2, 1, 4)\n",
    "queries = torch.rand(2, 1, 4)\n",
    "value_len = torch.tensor([2, 6])"
   ]
  },
  {
   "cell_type": "code",
   "execution_count": 19,
   "metadata": {
    "ExecuteTime": {
     "end_time": "2020-09-25T21:40:01.986753Z",
     "start_time": "2020-09-25T21:40:01.935556Z"
    }
   },
   "outputs": [
    {
     "data": {
      "text/plain": [
       "torch.Size([2, 1, 4])"
      ]
     },
     "execution_count": 19,
     "metadata": {},
     "output_type": "execute_result"
    }
   ],
   "source": [
    "at = attn(queries, keys, values, value_len)\n",
    "at.shape"
   ]
  }
 ],
 "metadata": {
  "kernelspec": {
   "display_name": "Python 3",
   "language": "python",
   "name": "python3"
  },
  "language_info": {
   "codemirror_mode": {
    "name": "ipython",
    "version": 3
   },
   "file_extension": ".py",
   "mimetype": "text/x-python",
   "name": "python",
   "nbconvert_exporter": "python",
   "pygments_lexer": "ipython3",
   "version": "3.7.7"
  },
  "toc": {
   "base_numbering": 1,
   "nav_menu": {},
   "number_sections": true,
   "sideBar": true,
   "skip_h1_title": true,
   "title_cell": "Table of Contents",
   "title_sidebar": "Contents",
   "toc_cell": false,
   "toc_position": {},
   "toc_section_display": true,
   "toc_window_display": false
  }
 },
 "nbformat": 4,
 "nbformat_minor": 4
}
