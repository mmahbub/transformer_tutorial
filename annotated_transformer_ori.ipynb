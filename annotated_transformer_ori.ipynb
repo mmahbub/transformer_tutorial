{
 "cells": [
  {
   "cell_type": "markdown",
   "metadata": {},
   "source": [
    "# The Annotated Transformer Tutorial\n",
    "This is a reimplementation of the famous [Annotated Transformer](http://nlp.seas.harvard.edu/2018/04/03/attention.html) that I did to better understand the transformer."
   ]
  },
  {
   "cell_type": "code",
   "execution_count": 1,
   "metadata": {
    "ExecuteTime": {
     "end_time": "2020-09-01T14:21:09.403410Z",
     "start_time": "2020-09-01T14:21:09.370557Z"
    }
   },
   "outputs": [],
   "source": [
    "%load_ext autoreload\n",
    "%autoreload 2"
   ]
  },
  {
   "cell_type": "code",
   "execution_count": 2,
   "metadata": {
    "ExecuteTime": {
     "end_time": "2020-09-01T14:21:10.463225Z",
     "start_time": "2020-09-01T14:21:09.406113Z"
    }
   },
   "outputs": [],
   "source": [
    "import pdb\n",
    "\n",
    "import numpy as np\n",
    "np.set_printoptions(precision=4)\n",
    "\n",
    "import math, copy, time\n",
    "from torch.autograd import Variable\n",
    "\n",
    "import matplotlib.pyplot as plt\n",
    "import seaborn as sns\n",
    "sns.set_style(\"darkgrid\")\n",
    "sns.set_context(context=\"talk\")\n",
    "%matplotlib inline\n",
    "\n",
    "import torch\n",
    "from torch import nn\n",
    "from torch.nn import functional as F"
   ]
  },
  {
   "cell_type": "markdown",
   "metadata": {},
   "source": [
    "## Model Architecture"
   ]
  },
  {
   "cell_type": "code",
   "execution_count": 5,
   "metadata": {
    "ExecuteTime": {
     "end_time": "2020-09-01T14:26:12.227994Z",
     "start_time": "2020-09-01T14:26:12.178809Z"
    }
   },
   "outputs": [],
   "source": [
    "def clones(module, N):\n",
    "  \"\"\"\n",
    "  Produce N identitcal layers.\n",
    "  \"\"\"\n",
    "  return nn.ModuleList([copy.deepcopy(module) for _ in range(N)])"
   ]
  },
  {
   "cell_type": "code",
   "execution_count": 3,
   "metadata": {
    "ExecuteTime": {
     "end_time": "2020-09-01T14:23:57.269992Z",
     "start_time": "2020-09-01T14:23:57.026346Z"
    }
   },
   "outputs": [],
   "source": [
    "class EncoderDecoder(nn.Module):\n",
    "  \"\"\"\n",
    "  A standard Encoder-Decoder architecture. Base for this and\n",
    "  many other models. \n",
    "  \"\"\"\n",
    "  def __ini__(self, encoder, decoder, src_embed, tgt_embed, generator):\n",
    "    super(EncoderDecoder, self).__ini__()\n",
    "    self.encoder = encoder \n",
    "    self.decoder = decoder \n",
    "    self.src_embed = src_embed \n",
    "    self.tgt_embed = tgt_embed\n",
    "    self.generator = generator\n",
    "    \n",
    "  def forward(self, src, tgt, src_mask, tgt_mask):\n",
    "    \"\"\"\n",
    "    Take in and process masked source and target sequences. \n",
    "    \"\"\"\n",
    "    return self.decode(self.encode(src, src_mask), src_mask, tgt, tgt_mask)\n",
    "  \n",
    "  def encode(self, src, src_mask):\n",
    "    return self.encoder(self.src_embed(src), src_mask)\n",
    "  \n",
    "  def decode(self, memory, src_mask, tgt, tgt_mask):\n",
    "    return self.deocder(self.tgt_embed(tgt), memory, src_mask, tgt_mask)\n",
    "\n",
    "class Generator(nn.Module):\n",
    "  \"\"\"\n",
    "  Define standard linear + softmax generation step.\n",
    "  \"\"\"\n",
    "  def __init__(self, d_model, vocab):\n",
    "    super(Generator, self).__init__()\n",
    "    self.proj = nn.Linear(d_model, vocab)\n",
    "    \n",
    "  def forward(self, x):\n",
    "    return F.log_softmax(self.proj(x), dim=-1)"
   ]
  },
  {
   "cell_type": "code",
   "execution_count": null,
   "metadata": {
    "ExecuteTime": {
     "end_time": "2020-09-01T16:19:50.631751Z",
     "start_time": "2020-09-01T16:19:50.396981Z"
    }
   },
   "outputs": [],
   "source": [
    "class LayerNorm(nn.Module):\n",
    "  \"\"\"\n",
    "  Construct a layernorm module.\n",
    "  \"\"\"\n",
    "  def __init__(self, features, eps=1e-6):\n",
    "    super(LayerNorm, self).__init__()\n",
    "    self.a_2 = nn.Parameter(torch.ones(features))\n",
    "    self.b_2 = nn.Parameter(torch.zeros(features))\n",
    "    self.eps = eps\n",
    "    \n",
    "  def forward(self, x):\n",
    "    mean = x.mean(-1, keepdim=True)\n",
    "    std = x.std(-1, keepdim=True)\n",
    "    return self.a_2 * (x - mean) / (std + self.eps) + self.b_2"
   ]
  },
  {
   "cell_type": "code",
   "execution_count": 9,
   "metadata": {
    "ExecuteTime": {
     "end_time": "2020-09-01T16:25:11.706331Z",
     "start_time": "2020-09-01T16:25:11.470875Z"
    }
   },
   "outputs": [],
   "source": [
    "class SublayerConnection(nn.Module):\n",
    "  \"\"\"\n",
    "  A residual connection followed by a layer norm.\n",
    "  Note for code simplicity the norm is first as opposed to last.\n",
    "  \"\"\"\n",
    "  def __init__(self, size, dropout):\n",
    "    super(SublayerConnection, self).__init__()\n",
    "    self.norm = LayerNorm(size)\n",
    "    self.dropout = nn.Dropout(dropout)\n",
    "    \n",
    "  def forward(self, x, sublayer):\n",
    "    \"\"\"\n",
    "    Apply residual connection to any subplayer with the same size.\n",
    "    \"\"\"\n",
    "    return x + self.dropout(subplayer(self.norm(x)))  "
   ]
  },
  {
   "cell_type": "markdown",
   "metadata": {},
   "source": [
    "## Encoder"
   ]
  },
  {
   "cell_type": "code",
   "execution_count": 8,
   "metadata": {
    "ExecuteTime": {
     "end_time": "2020-09-01T16:19:50.631751Z",
     "start_time": "2020-09-01T16:19:50.396981Z"
    }
   },
   "outputs": [],
   "source": [
    "class Encoder(nn.Module):\n",
    "  \"\"\"\n",
    "  Core encoder is a stack of N layers.\n",
    "  \"\"\"\n",
    "  def __init__(self, layer, N):\n",
    "    super(Encoder, self).__init__()\n",
    "    self.layers = clones(layer, N)\n",
    "    self.norm = LayerNorm(layer.size)\n",
    "    \n",
    "  def forward(self, x, mask):\n",
    "    \"\"\"\n",
    "    Pass the input (and mask) through each layer in turn.\n",
    "    \"\"\"\n",
    "    for layer in self.layers:\n",
    "      x = layer(x, mask)\n",
    "      \n",
    "    return self.norm(x)\n",
    "\n",
    "class EncoderLayer(nn.Module):\n",
    "  \"\"\"\n",
    "  Encoder is made up of self-attn and feed forward.\n",
    "  \"\"\"\n",
    "  def __init__(self, size, self_attn, feed_forward, dropout):\n",
    "    super(EncoderLayer, self).__init__()\n",
    "    self.self_attn = self_attn\n",
    "    self.feed_forward = feed_forward\n",
    "    self.subplayer = clones(SublayerConnection(size, dropout), 2)\n",
    "    self.size = size\n",
    "    \n",
    "  def forward(self, x, mask):\n",
    "    x = self.sublayer[0](x, lambda x: self.self_attn(x, x, x, mask))\n",
    "    return self.sublayer[1](x, self.feed_forward)"
   ]
  },
  {
   "cell_type": "markdown",
   "metadata": {},
   "source": [
    "## Decoder"
   ]
  },
  {
   "cell_type": "code",
   "execution_count": null,
   "metadata": {},
   "outputs": [],
   "source": [
    "class Decoder(nn.Module):\n",
    "  \"\"\"\n",
    "  Generic N layer decoder with masking.\n",
    "  \"\"\"\n",
    "  def __init__(self, layer, N):\n",
    "    super(Decoder, self).__init__()\n",
    "    self.layers = clones(layer, N)\n",
    "    self.norm = LayerNorm(layer.size)\n",
    "    \n",
    "  def forward(self, x, memory, src_mask, tgt_mask):\n",
    "    \"\"\"\n",
    "    Pass the input (and mask) through each layer in turn.\n",
    "    \"\"\"\n",
    "    for layer in self.layers:\n",
    "      x = layer(x, memory, src_mask, tgt_mask)\n",
    "      \n",
    "    return self.norm(x)"
   ]
  },
  {
   "cell_type": "code",
   "execution_count": null,
   "metadata": {},
   "outputs": [],
   "source": [
    "class DecoderLayer(nn.Module):\n",
    "  \"\"\"\n",
    "  Decoder is made of self-attn, src-attn, and feed forward.\n",
    "  \"\"\"\n",
    "  def __init__(self, size, self_attn, src_attn, feed_forward, dropout):\n",
    "    super(DecoderLayer, self).__init__()\n",
    "    self.size = size\n",
    "    self.self_attn = self_attn\n",
    "    self.src_attn = src_attn\n",
    "    self.feed_forward = feed_forward\n",
    "    self.sublayer = clones(SublayerConnection(size, dropout), 3)\n",
    "    \n",
    "  def forward(self, x, memory, src_mask, tgt_mask):\n",
    "    m = memory\n",
    "    x = self.sublayer[0](x, lambda x: self.self_attn(x, x, x, tgt_mask))\n",
    "    x = self.sublayer[1](x, lambda x: self.src_attn(x, m, m, src_mask))\n",
    "    return self.sublayer[2](x, self.feed_forward)"
   ]
  },
  {
   "cell_type": "code",
   "execution_count": 15,
   "metadata": {
    "ExecuteTime": {
     "end_time": "2020-09-01T19:10:18.765127Z",
     "start_time": "2020-09-01T19:10:18.713384Z"
    }
   },
   "outputs": [],
   "source": [
    "def subsequent_mask(size):\n",
    "  \"\"\"\n",
    "  Mask out subsequent positions.\n",
    "  \"\"\"\n",
    "  attn_shape = (1, size, size)\n",
    "  subsq_mask = np.triu(np.ones(attn_shape), k=1).astype('uint8')\n",
    "  return torch.from_numpy(subsq_mask) == 0"
   ]
  },
  {
   "cell_type": "code",
   "execution_count": 17,
   "metadata": {
    "ExecuteTime": {
     "end_time": "2020-09-01T19:10:36.103179Z",
     "start_time": "2020-09-01T19:10:35.723430Z"
    }
   },
   "outputs": [
    {
     "data": {
      "text/plain": [
       "<matplotlib.image.AxesImage at 0x7f6eb51988d0>"
      ]
     },
     "execution_count": 17,
     "metadata": {},
     "output_type": "execute_result"
    },
    {
     "data": {
      "image/png": "[encoded data removed]",
      "text/plain": [
       "<Figure size 360x360 with 1 Axes>"
      ]
     },
     "metadata": {
      "needs_background": "light"
     },
     "output_type": "display_data"
    }
   ],
   "source": [
    "fig, ax = plt.subplots(1,1,figsize=(5,5))\n",
    "ax.imshow(subsequent_mask(20)[0])"
   ]
  },
  {
   "cell_type": "markdown",
   "metadata": {},
   "source": [
    "## Attention"
   ]
  },
  {
   "cell_type": "code",
   "execution_count": 18,
   "metadata": {
    "ExecuteTime": {
     "end_time": "2020-09-01T21:49:23.928454Z",
     "start_time": "2020-09-01T21:49:23.696124Z"
    }
   },
   "outputs": [],
   "source": [
    "def attention(query, key, value, mask=None, dropout=None):\n",
    "  \"\"\"\n",
    "  Compute 'Scaled Dot Product Attention'\n",
    "  \"\"\"\n",
    "  d_k = query.size(-1)\n",
    "  scores = torch.matmul(query, key.transpose(-2, -1)) / math.sqrt(d_k)\n",
    "  if mask is not None:\n",
    "    scores = scores.maksed_fill(mask == 0, -1e9)\n",
    "  p_attn = F.softmax(scores, dim=-1)\n",
    "  if dropout is not None:\n",
    "    p_attn = dropout(p_attn)\n",
    "    \n",
    "  return torch.matmul(p_attn, value), p_attn"
   ]
  }
 ],
 "metadata": {
  "kernelspec": {
   "display_name": "Python 3",
   "language": "python",
   "name": "python3"
  },
  "language_info": {
   "codemirror_mode": {
    "name": "ipython",
    "version": 3
   },
   "file_extension": ".py",
   "mimetype": "text/x-python",
   "name": "python",
   "nbconvert_exporter": "python",
   "pygments_lexer": "ipython3",
   "version": "3.7.7"
  },
  "toc": {
   "base_numbering": 1,
   "nav_menu": {},
   "number_sections": true,
   "sideBar": true,
   "skip_h1_title": true,
   "title_cell": "Table of Contents",
   "title_sidebar": "Contents",
   "toc_cell": false,
   "toc_position": {},
   "toc_section_display": true,
   "toc_window_display": false
  }
 },
 "nbformat": 4,
 "nbformat_minor": 4
}
