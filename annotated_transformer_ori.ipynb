{
 "cells": [
  {
   "cell_type": "markdown",
   "metadata": {},
   "source": [
    "# The Annotated Transformer Tutorial - Reimplimentation of Original\n",
    "\n",
    "This is a reimplementation of the famous [Annotated Transformer](http://nlp.seas.harvard.edu/2018/04/03/attention.html) that I did to better understand the transformer."
   ]
  },
  {
   "cell_type": "markdown",
   "metadata": {},
   "source": [
    "## Imports & Inits"
   ]
  },
  {
   "cell_type": "code",
   "execution_count": null,
   "metadata": {
    "ExecuteTime": {
     "end_time": "2020-09-02T21:39:31.498187Z",
     "start_time": "2020-09-02T21:39:31.464561Z"
    }
   },
   "outputs": [],
   "source": [
    "%load_ext autoreload\n",
    "%autoreload 2"
   ]
  },
  {
   "cell_type": "code",
   "execution_count": null,
   "metadata": {
    "ExecuteTime": {
     "end_time": "2020-09-02T21:39:33.034179Z",
     "start_time": "2020-09-02T21:39:31.500934Z"
    }
   },
   "outputs": [],
   "source": [
    "import pdb\n",
    "\n",
    "import numpy as np\n",
    "np.set_printoptions(precision=4)\n",
    "\n",
    "import math, copy, time\n",
    "\n",
    "import matplotlib.pyplot as plt\n",
    "import seaborn as sns\n",
    "sns.set_style(\"darkgrid\")\n",
    "sns.set_context(context=\"talk\")\n",
    "%matplotlib inline\n",
    "\n",
    "import torch\n",
    "from torch import nn\n",
    "from torch.nn import functional as F\n",
    "from torch.autograd import Variable"
   ]
  },
  {
   "cell_type": "markdown",
   "metadata": {},
   "source": [
    "## Model Architecture"
   ]
  },
  {
   "cell_type": "code",
   "execution_count": null,
   "metadata": {
    "ExecuteTime": {
     "end_time": "2020-09-02T21:39:33.062801Z",
     "start_time": "2020-09-02T21:39:33.036971Z"
    }
   },
   "outputs": [],
   "source": [
    "def clones(module, N):\n",
    "  \"\"\"\n",
    "  Produce N identitcal layers.\n",
    "  \"\"\"\n",
    "  return nn.ModuleList([copy.deepcopy(module) for _ in range(N)])"
   ]
  },
  {
   "cell_type": "code",
   "execution_count": null,
   "metadata": {
    "ExecuteTime": {
     "end_time": "2020-09-02T21:39:33.090801Z",
     "start_time": "2020-09-02T21:39:33.065092Z"
    }
   },
   "outputs": [],
   "source": [
    "class EncoderDecoder(nn.Module):\n",
    "  \"\"\"\n",
    "  A standard Encoder-Decoder architecture. Base for this and\n",
    "  many other models. \n",
    "  \"\"\"\n",
    "  def __ini__(self, encoder, decoder, src_embed, tgt_embed, generator):\n",
    "    super(EncoderDecoder, self).__ini__()\n",
    "    self.encoder = encoder \n",
    "    self.decoder = decoder \n",
    "    self.src_embed = src_embed \n",
    "    self.tgt_embed = tgt_embed\n",
    "    self.generator = generator\n",
    "    \n",
    "  def forward(self, src, tgt, src_mask, tgt_mask):\n",
    "    \"\"\"\n",
    "    Take in and process masked source and target sequences. \n",
    "    \"\"\"\n",
    "    return self.decode(self.encode(src, src_mask), src_mask, tgt, tgt_mask)\n",
    "  \n",
    "  def encode(self, src, src_mask):\n",
    "    return self.encoder(self.src_embed(src), src_mask)\n",
    "  \n",
    "  def decode(self, memory, src_mask, tgt, tgt_mask):\n",
    "    return self.deocder(self.tgt_embed(tgt), memory, src_mask, tgt_mask)\n",
    "\n",
    "class Generator(nn.Module):\n",
    "  \"\"\"\n",
    "  Define standard linear + softmax generation step.\n",
    "  \"\"\"\n",
    "  def __init__(self, d_model, vocab):\n",
    "    super(Generator, self).__init__()\n",
    "    self.proj = nn.Linear(d_model, vocab)\n",
    "    \n",
    "  def forward(self, x):\n",
    "    return F.log_softmax(self.proj(x), dim=-1)"
   ]
  },
  {
   "cell_type": "code",
   "execution_count": null,
   "metadata": {
    "ExecuteTime": {
     "end_time": "2020-09-02T21:39:33.113992Z",
     "start_time": "2020-09-02T21:39:33.092109Z"
    }
   },
   "outputs": [],
   "source": [
    "class LayerNorm(nn.Module):\n",
    "  \"\"\"\n",
    "  Construct a layernorm module.\n",
    "  \"\"\"\n",
    "  def __init__(self, features, eps=1e-6):\n",
    "    super(LayerNorm, self).__init__()\n",
    "    self.a_2 = nn.Parameter(torch.ones(features))\n",
    "    self.b_2 = nn.Parameter(torch.zeros(features))\n",
    "    self.eps = eps\n",
    "    \n",
    "  def forward(self, x):\n",
    "    mean = x.mean(-1, keepdim=True)\n",
    "    std = x.std(-1, keepdim=True)\n",
    "    return self.a_2 * (x - mean) / (std + self.eps) + self.b_2"
   ]
  },
  {
   "cell_type": "code",
   "execution_count": null,
   "metadata": {
    "ExecuteTime": {
     "end_time": "2020-09-02T21:39:33.135642Z",
     "start_time": "2020-09-02T21:39:33.115361Z"
    }
   },
   "outputs": [],
   "source": [
    "class SublayerConnection(nn.Module):\n",
    "  \"\"\"\n",
    "  A residual connection followed by a layer norm.\n",
    "  Note for code simplicity the norm is first as opposed to last.\n",
    "  \"\"\"\n",
    "  def __init__(self, size, dropout):\n",
    "    super(SublayerConnection, self).__init__()\n",
    "    self.norm = LayerNorm(size)\n",
    "    self.dropout = nn.Dropout(dropout)\n",
    "    \n",
    "  def forward(self, x, sublayer):\n",
    "    \"\"\"\n",
    "    Apply residual connection to any subplayer with the same size.\n",
    "    \"\"\"\n",
    "    return x + self.dropout(subplayer(self.norm(x)))  "
   ]
  },
  {
   "cell_type": "markdown",
   "metadata": {},
   "source": [
    "## Encoder"
   ]
  },
  {
   "cell_type": "code",
   "execution_count": null,
   "metadata": {
    "ExecuteTime": {
     "end_time": "2020-09-02T21:39:33.158504Z",
     "start_time": "2020-09-02T21:39:33.136925Z"
    }
   },
   "outputs": [],
   "source": [
    "class Encoder(nn.Module):\n",
    "  \"\"\"\n",
    "  Core encoder is a stack of N layers.\n",
    "  \"\"\"\n",
    "  def __init__(self, layer, N):\n",
    "    super(Encoder, self).__init__()\n",
    "    self.layers = clones(layer, N)\n",
    "    self.norm = LayerNorm(layer.size)\n",
    "    \n",
    "  def forward(self, x, mask):\n",
    "    \"\"\"\n",
    "    Pass the input (and mask) through each layer in turn.\n",
    "    \"\"\"\n",
    "    for layer in self.layers:\n",
    "      x = layer(x, mask)\n",
    "      \n",
    "    return self.norm(x)\n",
    "\n",
    "class EncoderLayer(nn.Module):\n",
    "  \"\"\"\n",
    "  Encoder is made up of self-attn and feed forward.\n",
    "  \"\"\"\n",
    "  def __init__(self, size, self_attn, feed_forward, dropout):\n",
    "    super(EncoderLayer, self).__init__()\n",
    "    self.self_attn = self_attn\n",
    "    self.feed_forward = feed_forward\n",
    "    self.subplayer = clones(SublayerConnection(size, dropout), 2)\n",
    "    self.size = size\n",
    "    \n",
    "  def forward(self, x, mask):\n",
    "    x = self.sublayer[0](x, lambda x: self.self_attn(x, x, x, mask))\n",
    "    return self.sublayer[1](x, self.feed_forward)"
   ]
  },
  {
   "cell_type": "markdown",
   "metadata": {},
   "source": [
    "## Decoder"
   ]
  },
  {
   "cell_type": "code",
   "execution_count": null,
   "metadata": {
    "ExecuteTime": {
     "end_time": "2020-09-02T21:39:33.180280Z",
     "start_time": "2020-09-02T21:39:33.160741Z"
    }
   },
   "outputs": [],
   "source": [
    "class Decoder(nn.Module):\n",
    "  \"\"\"\n",
    "  Generic N layer decoder with masking.\n",
    "  \"\"\"\n",
    "  def __init__(self, layer, N):\n",
    "    super(Decoder, self).__init__()\n",
    "    self.layers = clones(layer, N)\n",
    "    self.norm = LayerNorm(layer.size)\n",
    "    \n",
    "  def forward(self, x, memory, src_mask, tgt_mask):\n",
    "    \"\"\"\n",
    "    Pass the input (and mask) through each layer in turn.\n",
    "    \"\"\"\n",
    "    for layer in self.layers:\n",
    "      x = layer(x, memory, src_mask, tgt_mask)\n",
    "      \n",
    "    return self.norm(x)"
   ]
  },
  {
   "cell_type": "code",
   "execution_count": null,
   "metadata": {
    "ExecuteTime": {
     "end_time": "2020-09-02T21:39:33.202209Z",
     "start_time": "2020-09-02T21:39:33.181991Z"
    }
   },
   "outputs": [],
   "source": [
    "class DecoderLayer(nn.Module):\n",
    "  \"\"\"\n",
    "  Decoder is made of self-attn, src-attn, and feed forward.\n",
    "  \"\"\"\n",
    "  def __init__(self, size, self_attn, src_attn, feed_forward, dropout):\n",
    "    super(DecoderLayer, self).__init__()\n",
    "    self.size = size\n",
    "    self.self_attn = self_attn\n",
    "    self.src_attn = src_attn\n",
    "    self.feed_forward = feed_forward\n",
    "    self.sublayer = clones(SublayerConnection(size, dropout), 3)\n",
    "    \n",
    "  def forward(self, x, memory, src_mask, tgt_mask):\n",
    "    m = memory\n",
    "    x = self.sublayer[0](x, lambda x: self.self_attn(x, x, x, tgt_mask))\n",
    "    x = self.sublayer[1](x, lambda x: self.src_attn(x, m, m, src_mask))\n",
    "    return self.sublayer[2](x, self.feed_forward)"
   ]
  },
  {
   "cell_type": "code",
   "execution_count": null,
   "metadata": {
    "ExecuteTime": {
     "end_time": "2020-09-02T21:39:33.221494Z",
     "start_time": "2020-09-02T21:39:33.203457Z"
    }
   },
   "outputs": [],
   "source": [
    "def subsequent_mask(size):\n",
    "  \"\"\"\n",
    "  Mask out subsequent positions.\n",
    "  \"\"\"\n",
    "  attn_shape = (1, size, size)\n",
    "  subsq_mask = np.triu(np.ones(attn_shape), k=1).astype('uint8')\n",
    "  return torch.from_numpy(subsq_mask) == 0"
   ]
  },
  {
   "cell_type": "code",
   "execution_count": null,
   "metadata": {
    "ExecuteTime": {
     "end_time": "2020-09-02T21:39:33.382340Z",
     "start_time": "2020-09-02T21:39:33.222987Z"
    }
   },
   "outputs": [],
   "source": [
    "fig, ax = plt.subplots(1,1,figsize=(5,5))\n",
    "ax.imshow(subsequent_mask(20)[0])"
   ]
  },
  {
   "cell_type": "markdown",
   "metadata": {},
   "source": [
    "## Attention"
   ]
  },
  {
   "cell_type": "code",
   "execution_count": null,
   "metadata": {
    "ExecuteTime": {
     "end_time": "2020-09-02T21:39:33.403443Z",
     "start_time": "2020-09-02T21:39:33.383519Z"
    }
   },
   "outputs": [],
   "source": [
    "def attention(query, key, value, mask=None, dropout=None):\n",
    "  \"\"\"\n",
    "  Compute 'Scaled Dot Product Attention'\n",
    "  \"\"\"\n",
    "  d_k = query.size(-1)\n",
    "  scores = torch.matmul(query, key.transpose(-2, -1)) / math.sqrt(d_k)\n",
    "  if mask is not None:\n",
    "    scores = scores.maksed_fill(mask == 0, -1e9)\n",
    "  p_attn = F.softmax(scores, dim=-1)\n",
    "  if dropout is not None:\n",
    "    p_attn = dropout(p_attn)\n",
    "    \n",
    "  return torch.matmul(p_attn, value), p_attn"
   ]
  },
  {
   "cell_type": "code",
   "execution_count": null,
   "metadata": {
    "ExecuteTime": {
     "end_time": "2020-09-02T21:39:33.425969Z",
     "start_time": "2020-09-02T21:39:33.405003Z"
    }
   },
   "outputs": [],
   "source": [
    "class MultiHeadAttention(nn.Module):\n",
    "  def __init__(self, h, d_model, dropout=0.1):\n",
    "    \"\"\"\n",
    "    Take in the model size and number of heads.\n",
    "    \"\"\"\n",
    "    super(MultiHeadAttention, self).__init__()\n",
    "    assert d_model % h == 0 # assume d_v = d_k\n",
    "    self.d_k = d_model // h\n",
    "    self.h = h\n",
    "    self.linears = clones(nn.Linear(d_model, d_model), 4)\n",
    "    self.attn = None\n",
    "    self.dropout = nn.Dropout(dropout)\n",
    "\n",
    "  def forward(self, query, key, value, mask=None):\n",
    "    if mask is not None:\n",
    "      mask = mask.unsqueeze(1) # same maks is applied to all h heads\n",
    "    \n",
    "    nbatchs = query.size(0)\n",
    "    \n",
    "    # 1) Do all the linear projections in a batch from d_model => h x d_k\n",
    "    query, key, value = [l(x).view(nbatchs, -1, self.h, self.d_k).transpose(1, 2) for l,x in zip(self.linears, (query, key, value))]\n",
    "    \n",
    "    # 2) Apply attention on all the projected vectors in a batch\n",
    "    x, self.attn = attention(query, key, value, mask=mask, dropout=self.dropout)\n",
    "    \n",
    "    # 3) \"concat\" using view and apply a final linear\n",
    "    x = x.transpose(1, 2).contiguous().view(nbatchs, -1, self.h * self.d_k)\n",
    "    \n",
    "    return self.linears[-1](x)    "
   ]
  },
  {
   "cell_type": "markdown",
   "metadata": {},
   "source": [
    "## Feedforward, Embeddings, and Positional Encoding"
   ]
  },
  {
   "cell_type": "code",
   "execution_count": null,
   "metadata": {
    "ExecuteTime": {
     "end_time": "2020-09-02T21:39:33.445254Z",
     "start_time": "2020-09-02T21:39:33.427129Z"
    }
   },
   "outputs": [],
   "source": [
    "class PositionWiseFeedForward(nn.Module):\n",
    "  def __init__(self, d_model, d_ff, dropout=0.1):\n",
    "    super(PositionWiseFeedForward, self).__init__()\n",
    "    self.w_1 = nn.Linear(d_model, d_ff)\n",
    "    self.w_2 = nn.Linear(d_ff, d_model)\n",
    "    self.dropout = nn.Dropout(dropout)\n",
    "    \n",
    "  def forward(self, x):\n",
    "    return self.w_2(self.dropout(F.relu(self.w_1(x))))"
   ]
  },
  {
   "cell_type": "code",
   "execution_count": null,
   "metadata": {
    "ExecuteTime": {
     "end_time": "2020-09-02T21:39:33.463747Z",
     "start_time": "2020-09-02T21:39:33.446392Z"
    }
   },
   "outputs": [],
   "source": [
    "class Embeddings(nn.Module):\n",
    "  def __init__(self, d_model, vocab):\n",
    "    super(Embeddings, self).__init__()\n",
    "    self.lut = nn.Embedding(vocab, d_model)\n",
    "    self.d_model = d_model\n",
    "    \n",
    "  def forward(self, x):\n",
    "    return self.lut(x) * math.sqrt(self.d_model)"
   ]
  },
  {
   "cell_type": "code",
   "execution_count": null,
   "metadata": {
    "ExecuteTime": {
     "end_time": "2020-09-02T21:45:57.771070Z",
     "start_time": "2020-09-02T21:45:57.708570Z"
    }
   },
   "outputs": [],
   "source": [
    "class PositionalEncoding(nn.Module):\n",
    "  \"Implement the PE function.\"\n",
    "  def __init__(self, d_model, dropout, max_len=5000):\n",
    "    super(PositionalEncoding, self).__init__()\n",
    "    self.dropout = nn.Dropout(dropout)\n",
    "\n",
    "    # Compute the positional encodings once in log space.\n",
    "    pe = torch.zeros(max_len, d_model)\n",
    "    position = torch.arange(0, max_len).unsqueeze(1)\n",
    "    div_term = torch.exp(torch.arange(0, d_model, 2) * -(math.log(10000.0) / d_model))\n",
    "    pe[:, 0::2] = torch.sin(position * div_term)\n",
    "    pe[:, 1::2] = torch.cos(position * div_term)\n",
    "    pe = pe.unsqueeze(0)\n",
    "    self.register_buffer('pe', pe)\n",
    "\n",
    "  def forward(self, x):\n",
    "    x = x + Variable(self.pe[:, :x.size(1)], \n",
    "                     requires_grad=False)\n",
    "    return self.dropout(x)"
   ]
  },
  {
   "cell_type": "code",
   "execution_count": null,
   "metadata": {
    "ExecuteTime": {
     "end_time": "2020-09-02T21:45:46.672895Z",
     "start_time": "2020-09-02T21:45:46.358901Z"
    }
   },
   "outputs": [],
   "source": [
    "fig, ax = plt.subplots(1,1,figsize=(15,5))\n",
    "pe = PositionalEncoding(20, 0)\n",
    "y = pe.forward(Variable(torch.zeros(1, 100, 20)))\n",
    "ax.plot(np.arange(100), y[0, :, 4:8].data.numpy())\n",
    "ax.legend([\"dim %d\"%p for p in [4,5,6,7]])"
   ]
  }
 ],
 "metadata": {
  "kernelspec": {
   "display_name": "Python 3",
   "language": "python",
   "name": "python3"
  },
  "language_info": {
   "codemirror_mode": {
    "name": "ipython",
    "version": 3
   },
   "file_extension": ".py",
   "mimetype": "text/x-python",
   "name": "python",
   "nbconvert_exporter": "python",
   "pygments_lexer": "ipython3",
   "version": "3.7.7"
  },
  "toc": {
   "base_numbering": 1,
   "nav_menu": {},
   "number_sections": true,
   "sideBar": true,
   "skip_h1_title": true,
   "title_cell": "Table of Contents",
   "title_sidebar": "Contents",
   "toc_cell": false,
   "toc_position": {},
   "toc_section_display": true,
   "toc_window_display": false
  }
 },
 "nbformat": 4,
 "nbformat_minor": 4
}
